{
 "cells": [
  {
   "cell_type": "markdown",
   "metadata": {},
   "source": [
    "Quantum computers have many advantages over classical computers. One of the advantages is its superior speed searching in the databases. This ability can be demonstrated by using Grover's algorithm. For example, finding the needle in a haystack or searching the address of a people in a phone diary is an unstructured database search, and it takes a long time to find the correct solution. Grover's algorithm speeds up unstructured search probability quadratically by using the amplitude-amplification trick."
   ]
  },
  {
   "cell_type": "markdown",
   "metadata": {},
   "source": [
    "<img src=\"Images/Grovers algorithm.jpg\" alt=\"drawing\" width=\"600\"/>\n"
   ]
  },
  {
   "cell_type": "markdown",
   "metadata": {},
   "source": [
    "Let's consider a large list of $\\mathrm{N}$ items. Among these items, there is one item with a unique property that we wish to locate, we will call this one the winner $(\\mathrm{w})$. In a classical way, search for the winner item (w) needs to check 1 to $\\mathrm{N}$ boxes. So, on average it needs to check $\\mathrm{N} / 2$ boxes or steps.\n",
    "\n",
    "But, using Grover's Algorithm, search steps can be reduced to $\\sqrt{(} N$ ). So, it will be a substantial time-saver to find the marked items along with the list. Another advantage of this algorithm does not use the list's internal structure."
   ]
  },
  {
   "cell_type": "markdown",
   "metadata": {},
   "source": [
    "$\\textbf{Example}$\n",
    "\n",
    "To understand it, let's begin with 2 qubits list. Its total possible states will be $4\\left(2^{2}=4\\right.$ ). i.e, $00,01,10,11,$ In counting it will be $\\mid 0>$ to upto $\\mid 3>$.\n",
    "Grover's algorithm solves oracles that add a negative phase to the solution states. i.e. for any states $|\\mathrm{x}\\rangle$ in the computational basis:\n",
    "$$\n",
    "U_{\\omega}|x\\rangle=\\left\\{\\begin{array}{ll}\n",
    "|x\\rangle & \\text { if } x \\neq \\omega \\\\\n",
    "-|x\\rangle & \\text { if } x=\\omega\n",
    "\\end{array}\\right.\n",
    "$$"
   ]
  },
  {
   "cell_type": "markdown",
   "metadata": {},
   "source": [
    "Grover's algorithm has three main components. \n",
    "1. First, we begin by creating a superposition of all $2^n$ computational basis states by applying a Hadamard ($H$) gate on each qubit starting off in the state $\\vert0\\rangle^{\\otimes n}$. Here, the exponent $\\otimes n$ means that we have a tensor product of the states of $n$ qubits. \n",
    "2. Second, we apply an Oracle operator to mark the appropriate elements among the $2^n$ elements. The oracle operator applies a coefficient of $-1$ to each of the marked elements.\n",
    "3. Third, we apply a Diffusion operator, or diffuser, which inverts the amplitude of all elements about the average amplitude.\n",
    "\n",
    "Putting these components together, and applying the Oracle and Diffusion operators $O(\\sqrt{N = 2^n})$ times, Grover's algorithm allows us to successfully determine the elements that were marked by the Oracle operator with high probability. This is shown in the block diagram above, where the quantum circuit for Grover's algorithm is depicted with a measurement in the end to read out the qubits.\n"
   ]
  },
  {
   "cell_type": "code",
   "execution_count": 1,
   "metadata": {},
   "outputs": [],
   "source": [
    "from qiskit import QuantumRegister, ClassicalRegister, QuantumCircuit,Aer,execute\n",
    "import math\n",
    "from qiskit.tools.monitor import job_monitor        \n",
    "pi = math.pi"
   ]
  },
  {
   "cell_type": "markdown",
   "metadata": {},
   "source": [
    "STEP 1: INITIALISE THE QUANTUM AND CLASSICAL REGISTERS and CREATE THE CIRCUIT"
   ]
  },
  {
   "cell_type": "code",
   "execution_count": 2,
   "metadata": {},
   "outputs": [],
   "source": [
    "q = QuantumRegister(4,'q')\n",
    "c = ClassicalRegister(4,'c')\n",
    "qc = QuantumCircuit(q,c)"
   ]
  },
  {
   "cell_type": "markdown",
   "metadata": {},
   "source": [
    "$\\textbf{STEP 2: APPLY A HADAMARD GATE TO ALL QUBITS}$\n",
    "\n",
    "Then we need to apply a Hadamard gate. This gate is used to put a qubit in to a superposition of 1 and 0 such that when we measure the qubit it will be 1 or a 0 with equal probability."
   ]
  },
  {
   "cell_type": "code",
   "execution_count": 3,
   "metadata": {},
   "outputs": [
    {
     "data": {
      "text/plain": [
       "<qiskit.circuit.instructionset.InstructionSet at 0x686944b820>"
      ]
     },
     "execution_count": 3,
     "metadata": {},
     "output_type": "execute_result"
    }
   ],
   "source": [
    "qc.h(q)"
   ]
  },
  {
   "cell_type": "markdown",
   "metadata": {},
   "source": [
    "$\\textbf{STEP 3: CREATE THE ORACLE}$\n",
    "\n",
    "Once all qubits are in superposition we can implement the oracle circuit. The oracle circuit inverts the amplitude of the state making it -1/4. This is done by first applying a Pauli X gate to certain qubits (depending on the state you wish to mark). \n"
   ]
  },
  {
   "cell_type": "code",
   "execution_count": 4,
   "metadata": {},
   "outputs": [
    {
     "data": {
      "text/plain": [
       "<qiskit.circuit.instructionset.InstructionSet at 0x6807f9eb50>"
      ]
     },
     "execution_count": 4,
     "metadata": {},
     "output_type": "execute_result"
    }
   ],
   "source": [
    "### 0000 Oracle ###\n",
    "qc1 = QuantumCircuit(q,c)\n",
    "qc1.x(q[0])\n",
    "qc1.x(q[1])\n",
    "qc1.x(q[2])\n",
    "qc1.x(q[3])\n",
    "\n",
    "qc1.cu1(pi/4, q[0], q[3])\n",
    "qc1.cx(q[0], q[1])\n",
    "qc1.cu1(-pi/4, q[1], q[3])\n",
    "qc1.cx(q[0], q[1])\n",
    "qc1.cu1(pi/4, q[1], q[3])\n",
    "qc1.cx(q[1], q[2])\n",
    "qc1.cu1(-pi/4, q[2], q[3])\n",
    "qc1.cx(q[0], q[2])\n",
    "qc1.cu1(pi/4, q[2], q[3])\n",
    "qc1.cx(q[1], q[2])\n",
    "qc1.cu1(-pi/4, q[2], q[3])\n",
    "qc1.cx(q[0], q[2])\n",
    "qc1.cu1(pi/4, q[2], q[3])\n",
    "\n",
    "qc1.x(q[0])\n",
    "qc1.x(q[1])\n",
    "qc1.x(q[2])\n",
    "qc1.x(q[3])\n",
    "\n",
    "### 0001 Oracle ###\n",
    "qc2 = QuantumCircuit(q,c)\n",
    "qc2.x(q[1])\n",
    "qc2.x(q[2])\n",
    "qc2.x(q[3])\n",
    "\n",
    "qc2.cu1(pi/4, q[0], q[3])\n",
    "qc2.cx(q[0], q[1])\n",
    "qc2.cu1(-pi/4, q[1], q[3])\n",
    "qc2.cx(q[0], q[1])\n",
    "qc2.cu1(pi/4, q[1], q[3])\n",
    "qc2.cx(q[1], q[2])\n",
    "qc2.cu1(-pi/4, q[2], q[3])\n",
    "qc2.cx(q[0], q[2])\n",
    "qc2.cu1(pi/4, q[2], q[3])\n",
    "qc2.cx(q[1], q[2])\n",
    "qc2.cu1(-pi/4, q[2], q[3])\n",
    "qc2.cx(q[0], q[2])\n",
    "qc2.cu1(pi/4, q[2], q[3])\n",
    "\n",
    "qc2.x(q[1])\n",
    "qc2.x(q[2])\n",
    "qc2.x(q[3])\n",
    "\n",
    "### 0010 Oracle ###\n",
    "qc3 = QuantumCircuit(q,c)\n",
    "qc3.x(q[0])\n",
    "qc3.x(q[2])\n",
    "qc3.x(q[3])\n",
    "\n",
    "qc3.cu1(pi/4, q[0], q[3])\n",
    "qc3.cx(q[0], q[1])\n",
    "qc3.cu1(-pi/4, q[1], q[3])\n",
    "qc3.cx(q[0], q[1])\n",
    "qc3.cu1(pi/4, q[1], q[3])\n",
    "qc3.cx(q[1], q[2])\n",
    "qc3.cu1(-pi/4, q[2], q[3])\n",
    "qc3.cx(q[0], q[2])\n",
    "qc3.cu1(pi/4, q[2], q[3])\n",
    "qc3.cx(q[1], q[2])\n",
    "qc3.cu1(-pi/4, q[2], q[3])\n",
    "qc3.cx(q[0], q[2])\n",
    "qc3.cu1(pi/4, q[2], q[3])\n",
    "\n",
    "qc3.x(q[0])\n",
    "qc3.x(q[2])\n",
    "qc3.x(q[3])\n",
    "\n",
    "### 0011 Oracle ###\n",
    "qc4 = QuantumCircuit(q,c)\n",
    "qc4.x(q[2])\n",
    "qc4.x(q[3])\n",
    "\n",
    "qc4.cu1(pi/4, q[0], q[3])\n",
    "qc4.cx(q[0], q[1])\n",
    "qc4.cu1(-pi/4, q[1], q[3])\n",
    "qc4.cx(q[0], q[1])\n",
    "qc4.cu1(pi/4, q[1], q[3])\n",
    "qc4.cx(q[1], q[2])\n",
    "qc4.cu1(-pi/4, q[2], q[3])\n",
    "qc4.cx(q[0], q[2])\n",
    "qc4.cu1(pi/4, q[2], q[3])\n",
    "qc4.cx(q[1], q[2])\n",
    "qc4.cu1(-pi/4, q[2], q[3])\n",
    "qc4.cx(q[0], q[2])\n",
    "qc4.cu1(pi/4, q[2], q[3])\n",
    "\n",
    "qc4.x(q[2])\n",
    "qc4.x(q[3])\n",
    "\n",
    "### 0100 Oracle ###\n",
    "qc5 = QuantumCircuit(q,c)\n",
    "qc5.x(q[0])\n",
    "qc5.x(q[1])\n",
    "qc5.x(q[3])\n",
    "\n",
    "qc5.cu1(pi/4, q[0], q[3])\n",
    "qc5.cx(q[0], q[1])\n",
    "qc.cu1(-pi/4, q[1], q[3])\n",
    "qc5.cx(q[0], q[1])\n",
    "qc.cu1(pi/4, q[1], q[3])\n",
    "qc5.cx(q[1], q[2])\n",
    "qc5.cu1(-pi/4, q[2], q[3])\n",
    "qc5.cx(q[0], q[2])\n",
    "qc5.cu1(pi/4, q[2], q[3])\n",
    "qc5.cx(q[1], q[2])\n",
    "qc5.cu1(-pi/4, q[2], q[3])\n",
    "qc5.cx(q[0], q[2])\n",
    "qc5.cu1(pi/4, q[2], q[3])\n",
    "\n",
    "qc5.x(q[0])\n",
    "qc5.x(q[1])\n",
    "qc5.x(q[3])\n",
    "\n",
    "### 0101 Oracle ###\n",
    "qc6 = QuantumCircuit(q,c)\n",
    "qc6.x(q[1])\n",
    "qc6.x(q[3])\n",
    "\n",
    "qc6.cu1(pi/4, q[0], q[3])\n",
    "qc6.cx(q[0], q[1])\n",
    "qc6.cu1(-pi/4, q[1], q[3])\n",
    "qc6.cx(q[0], q[1])\n",
    "qc6.cu1(pi/4, q[1], q[3])\n",
    "qc6.cx(q[1], q[2])\n",
    "qc6.cu1(-pi/4, q[2], q[3])\n",
    "qc6.cx(q[0], q[2])\n",
    "qc6.cu1(pi/4, q[2], q[3])\n",
    "qc6.cx(q[1], q[2])\n",
    "qc6.cu1(-pi/4, q[2], q[3])\n",
    "qc6.cx(q[0], q[2])\n",
    "qc6.cu1(pi/4, q[2], q[3])\n",
    "\n",
    "qc6.x(q[1])\n",
    "qc6.x(q[3])\n",
    "\n",
    "### 0110 Oracle ###\n",
    "qc7 = QuantumCircuit(q,c)\n",
    "qc7.x(q[0])\n",
    "qc7.x(q[3])\n",
    "\n",
    "qc7.cu1(pi/4, q[0], q[3])\n",
    "qc7.cx(q[0], q[1])\n",
    "qc7.cu1(-pi/4, q[1], q[3])\n",
    "qc7.cx(q[0], q[1])\n",
    "qc7.cu1(pi/4, q[1], q[3])\n",
    "qc7.cx(q[1], q[2])\n",
    "qc7.cu1(-pi/4, q[2], q[3])\n",
    "qc7.cx(q[0], q[2])\n",
    "qc7.cu1(pi/4, q[2], q[3])\n",
    "qc7.cx(q[1], q[2])\n",
    "qc7.cu1(-pi/4, q[2], q[3])\n",
    "qc7.cx(q[0], q[2])\n",
    "qc7.cu1(pi/4, q[2], q[3])\n",
    "\n",
    "qc7.x(q[0])\n",
    "qc7.x(q[3])\n",
    "\n",
    "### 0111 Oracle ###\n",
    "qc8 = QuantumCircuit(q,c)\n",
    "qc8.x(q[3])\n",
    "\n",
    "qc8.cu1(pi/4, q[0], q[3])\n",
    "qc8.cx(q[0], q[1])\n",
    "qc8.cu1(-pi/4, q[1], q[3])\n",
    "qc8.cx(q[0], q[1])\n",
    "qc8.cu1(pi/4, q[1], q[3])\n",
    "qc8.cx(q[1], q[2])\n",
    "qc8.cu1(-pi/4, q[2], q[3])\n",
    "qc8.cx(q[0], q[2])\n",
    "qc8.cu1(pi/4, q[2], q[3])\n",
    "qc8.cx(q[1], q[2])\n",
    "qc8.cu1(-pi/4, q[2], q[3])\n",
    "qc8.cx(q[0], q[2])\n",
    "qc8.cu1(pi/4, q[2], q[3])\n",
    "\n",
    "qc8.x(q[3])\n",
    "\n",
    "### 1000 Oracle ###\n",
    "qc9 = QuantumCircuit(q,c)\n",
    "qc9.x(q[0])\n",
    "qc9.x(q[1])\n",
    "qc9.x(q[2])\n",
    "\n",
    "qc9.cu1(pi/4, q[0], q[3])\n",
    "qc9.cx(q[0], q[1])\n",
    "qc9.cu1(-pi/4, q[1], q[3])\n",
    "qc9.cx(q[0], q[1])\n",
    "qc9.cu1(pi/4, q[1], q[3])\n",
    "qc9.cx(q[1], q[2])\n",
    "qc9.cu1(-pi/4, q[2], q[3])\n",
    "qc9.cx(q[0], q[2])\n",
    "qc9.cu1(pi/4, q[2], q[3])\n",
    "qc9.cx(q[1], q[2])\n",
    "qc9.cu1(-pi/4, q[2], q[3])\n",
    "qc9.cx(q[0], q[2])\n",
    "qc9.cu1(pi/4, q[2], q[3])\n",
    "\n",
    "qc9.x(q[0])\n",
    "qc9.x(q[1])\n",
    "qc9.x(q[2])\n",
    "\n",
    "### 1001 Oracle ###\n",
    "qct = QuantumCircuit(q,c)\n",
    "qct.x(q[1])\n",
    "qct.x(q[2])\n",
    "\n",
    "qct.cu1(pi/4, q[0], q[3])\n",
    "qct.cx(q[0], q[1])\n",
    "qct.cu1(-pi/4, q[1], q[3])\n",
    "qct.cx(q[0], q[1])\n",
    "qct.cu1(pi/4, q[1], q[3])\n",
    "qct.cx(q[1], q[2])\n",
    "qct.cu1(-pi/4, q[2], q[3])\n",
    "qct.cx(q[0], q[2])\n",
    "qct.cu1(pi/4, q[2], q[3])\n",
    "qct.cx(q[1], q[2])\n",
    "qct.cu1(-pi/4, q[2], q[3])\n",
    "qct.cx(q[0], q[2])\n",
    "qct.cu1(pi/4, q[2], q[3])\n",
    "\n",
    "qct.x(q[1])\n",
    "qct.x(q[2])\n",
    "\n",
    "### 1010 Oracle ###\n",
    "qce = QuantumCircuit(q,c)\n",
    "qce.x(q[0])\n",
    "qce.x(q[2])\n",
    "\n",
    "qce.cu1(pi/4, q[0], q[3])\n",
    "qce.cx(q[0], q[1])\n",
    "qce.cu1(-pi/4, q[1], q[3])\n",
    "qce.cx(q[0], q[1])\n",
    "qce.cu1(pi/4, q[1], q[3])\n",
    "qce.cx(q[1], q[2])\n",
    "qce.cu1(-pi/4, q[2], q[3])\n",
    "qce.cx(q[0], q[2])\n",
    "qce.cu1(pi/4, q[2], q[3])\n",
    "qce.cx(q[1], q[2])\n",
    "qce.cu1(-pi/4, q[2], q[3])\n",
    "qce.cx(q[0], q[2])\n",
    "qce.cu1(pi/4, q[2], q[3])\n",
    "\n",
    "qce.x(q[0])\n",
    "qce.x(q[2])\n",
    "\n",
    "### 1011 Oracle ###\n",
    "qcw = QuantumCircuit(q,c)\n",
    "qcw.x(q[3])\n",
    "\n",
    "qcw.cu1(pi/4, q[0], q[3])\n",
    "qcw.cx(q[0], q[1])\n",
    "qcw.cu1(-pi/4, q[1], q[3])\n",
    "qcw.cx(q[0], q[1])\n",
    "qcw.cu1(pi/4, q[1], q[3])\n",
    "qcw.cx(q[1], q[2])\n",
    "qcw.cu1(-pi/4, q[2], q[3])\n",
    "qcw.cx(q[0], q[2])\n",
    "qcw.cu1(pi/4, q[2], q[3])\n",
    "qcw.cx(q[1], q[2])\n",
    "qcw.cu1(-pi/4, q[2], q[3])\n",
    "qcw.cx(q[0], q[2])\n",
    "qcw.cu1(pi/4, q[2], q[3])\n",
    "\n",
    "qcw.x(q[3])\n",
    "\n",
    "### 1100 Oracle ###\n",
    "qcr = QuantumCircuit(q,c)\n",
    "qcr.x(q[0])\n",
    "qcr.x(q[1])\n",
    "\n",
    "qcr.cu1(pi/4, q[0], q[3])\n",
    "qcr.cx(q[0], q[1])\n",
    "qcr.cu1(-pi/4, q[1], q[3])\n",
    "qcr.cx(q[0], q[1])\n",
    "qcr.cu1(pi/4, q[1], q[3])\n",
    "qcr.cx(q[1], q[2])\n",
    "qcr.cu1(-pi/4, q[2], q[3])\n",
    "qcr.cx(q[0], q[2])\n",
    "qcr.cu1(pi/4, q[2], q[3])\n",
    "qcr.cx(q[1], q[2])\n",
    "qcr.cu1(-pi/4, q[2], q[3])\n",
    "qcr.cx(q[0], q[2])\n",
    "qcr.cu1(pi/4, q[2], q[3])\n",
    "\n",
    "qcr.x(q[0])\n",
    "qcr.x(q[1])\n",
    "\n",
    "### 1101 Oracle ###\n",
    "qcf = QuantumCircuit(q,c)\n",
    "qcf.x(q[1])\n",
    "\n",
    "qcf.cu1(pi/4, q[0], q[3])\n",
    "qcf.cx(q[0], q[1])\n",
    "qcf.cu1(-pi/4, q[1], q[3])\n",
    "qcf.cx(q[0], q[1])\n",
    "qcf.cu1(pi/4, q[1], q[3])\n",
    "qcf.cx(q[1], q[2])\n",
    "qcf.cu1(-pi/4, q[2], q[3])\n",
    "qcf.cx(q[0], q[2])\n",
    "qcf.cu1(pi/4, q[2], q[3])\n",
    "qcf.cx(q[1], q[2])\n",
    "qcf.cu1(-pi/4, q[2], q[3])\n",
    "qcf.cx(q[0], q[2])\n",
    "qcf.cu1(pi/4, q[2], q[3])\n",
    "\n",
    "qcf.x(q[1])\n",
    "\n",
    "### 1110 Oracle ###\n",
    "qcv = QuantumCircuit(q,c)\n",
    "qcv.x(q[0])\n",
    "\n",
    "qcv.cu1(pi/4, q[0], q[3])\n",
    "qcv.cx(q[0], q[1])\n",
    "qcv.cu1(-pi/4, q[1], q[3])\n",
    "qcv.cx(q[0], q[1])\n",
    "qcv.cu1(pi/4, q[1], q[3])\n",
    "qcv.cx(q[1], q[2])\n",
    "qcv.cu1(-pi/4, q[2], q[3])\n",
    "qcv.cx(q[0], q[2])\n",
    "qcv.cu1(pi/4, q[2], q[3])\n",
    "qcv.cx(q[1], q[2])\n",
    "qcv.cu1(-pi/4, q[2], q[3])\n",
    "qcv.cx(q[0], q[2])\n",
    "qcv.cu1(pi/4, q[2], q[3])\n",
    "\n",
    "qcv.x(q[0])\n",
    "\n",
    "###1111 Oracle###\n",
    "qcx = QuantumCircuit(q,c)\n",
    "qcx.cu1(pi/4, q[0], q[3])\n",
    "qcx.cx(q[0], q[1])\n",
    "qcx.cu1(-pi/4, q[1], q[3])\n",
    "qcx.cx(q[0], q[1])\n",
    "qcx.cu1(pi/4, q[1], q[3])\n",
    "qcx.cx(q[1], q[2])\n",
    "qcx.cu1(-pi/4, q[2], q[3])\n",
    "qcx.cx(q[0], q[2])\n",
    "qcx.cu1(pi/4, q[2], q[3])\n",
    "qcx.cx(q[1], q[2])\n",
    "qcx.cu1(-pi/4, q[2], q[3])\n",
    "qcx.cx(q[0], q[2])\n",
    "qcx.cu1(pi/4, q[2], q[3])"
   ]
  },
  {
   "cell_type": "code",
   "execution_count": 5,
   "metadata": {},
   "outputs": [
    {
     "name": "stdout",
     "output_type": "stream",
     "text": [
      "The random circuit\n"
     ]
    },
    {
     "data": {
      "image/png": "[encoded data removed]",
      "text/plain": [
       "<Figure size 1683.19x686.28 with 1 Axes>"
      ]
     },
     "execution_count": 5,
     "metadata": {},
     "output_type": "execute_result"
    }
   ],
   "source": [
    "import random\n",
    "list_options = [qc1, qc2, qc3, qc4, qc5, qc6,qc7,qc8,qc9,qct,qce,qcw,qcr,qcf,qcv,qcx,qcv,]\n",
    "circuit_grovers = random.choice(list_options)\n",
    "\n",
    "# Add the chosen circuit to the main circuit\n",
    "qc += circuit_grovers\n",
    "\n",
    "# Draw the circuit \n",
    "print(\"The random circuit\")\n",
    "qc.draw(output=\"mpl\")"
   ]
  },
  {
   "cell_type": "markdown",
   "metadata": {},
   "source": [
    "$\\textbf{STEP 4: CREATE THE AMPLIFICATION CIRCUIT}$\n",
    "\n",
    "\n",
    "Next we apply a amplification circuit. This raises the amplitude of the marked state while decreasing the amplitudes of all other states. "
   ]
  },
  {
   "cell_type": "code",
   "execution_count": 6,
   "metadata": {},
   "outputs": [
    {
     "data": {
      "text/plain": [
       "<qiskit.circuit.instructionset.InstructionSet at 0x68098d2490>"
      ]
     },
     "execution_count": 6,
     "metadata": {},
     "output_type": "execute_result"
    }
   ],
   "source": [
    "qc.h(q[0])\n",
    "qc.h(q[1])\n",
    "qc.h(q[2])\n",
    "qc.h(q[3])\n",
    "qc.x(q[0])\n",
    "qc.x(q[1])\n",
    "qc.x(q[2])\n",
    "qc.x(q[3])\n",
    "\n",
    "qc.cu1(pi/4, q[0], q[3])\n",
    "qc.cx(q[0], q[1])\n",
    "qc.cu1(-pi/4, q[1], q[3])\n",
    "qc.cx(q[0], q[1])\n",
    "qc.cu1(pi/4, q[1], q[3])\n",
    "qc.cx(q[1], q[2])\n",
    "qc.cu1(-pi/4, q[2], q[3])\n",
    "qc.cx(q[0], q[2])\n",
    "qc.cu1(pi/4, q[2], q[3])\n",
    "qc.cx(q[1], q[2])\n",
    "\n",
    "qc.cu1(-pi/4, q[2], q[3])\n",
    "qc.cx(q[0], q[2])\n",
    "qc.cu1(pi/4, q[2], q[3])\n",
    "\n",
    "qc.x(q[0])\n",
    "qc.x(q[1])\n",
    "qc.x(q[2])\n",
    "qc.x(q[3])\n",
    "qc.h(q[0])\n",
    "qc.h(q[1])\n",
    "qc.h(q[2])\n",
    "qc.h(q[3])"
   ]
  },
  {
   "cell_type": "code",
   "execution_count": 7,
   "metadata": {},
   "outputs": [
    {
     "data": {
      "text/plain": [
       "<qiskit.circuit.instructionset.InstructionSet at 0x6807f7f6a0>"
      ]
     },
     "execution_count": 7,
     "metadata": {},
     "output_type": "execute_result"
    }
   ],
   "source": [
    "qc.barrier(q)\n",
    "qc.measure(q[0], c[0])\n",
    "qc.measure(q[1], c[1])\n",
    "qc.measure(q[2], c[2])\n",
    "qc.measure(q[3], c[3])"
   ]
  },
  {
   "cell_type": "code",
   "execution_count": 8,
   "metadata": {},
   "outputs": [
    {
     "data": {
      "image/png": "[encoded data removed]",
      "text/plain": [
       "<Figure size 504x360 with 1 Axes>"
      ]
     },
     "execution_count": 8,
     "metadata": {},
     "output_type": "execute_result"
    }
   ],
   "source": [
    "from qiskit.visualization import plot_histogram\n",
    "simulator = Aer.get_backend('qasm_simulator')\n",
    "counts = execute(qc, backend=simulator, shots=1000).result().get_counts(qc)\n",
    "plot_histogram(counts)"
   ]
  },
  {
   "cell_type": "code",
   "execution_count": null,
   "metadata": {},
   "outputs": [],
   "source": []
  }
 ],
 "metadata": {
  "kernelspec": {
   "display_name": "Python 3",
   "language": "python",
   "name": "python3"
  },
  "language_info": {
   "codemirror_mode": {
    "name": "ipython",
    "version": 3
   },
   "file_extension": ".py",
   "mimetype": "text/x-python",
   "name": "python",
   "nbconvert_exporter": "python",
   "pygments_lexer": "ipython3",
   "version": "3.8.5"
  }
 },
 "nbformat": 4,
 "nbformat_minor": 4
}

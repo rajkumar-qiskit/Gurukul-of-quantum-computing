{
 "cells": [
  {
   "cell_type": "markdown",
   "metadata": {},
   "source": [
    "<h1 align=\"center\">\n",
    "<span style=\"color: red;\">$\\textbf{Simon's Algorithm}$</center>\n",
    "</h1>"
   ]
  },
  {
   "cell_type": "markdown",
   "metadata": {},
   "source": [
    "Simon’s algorithm is a quantum computing algorithm invented to solve a contrived problem which is called Simon’s problem. Compared to one of the other quantum computing algorithms, Deutsch-Jozsa algorithm, which only requires to run once, Simon’s algorithm requires to run the algorithm multiple times, yet it is still able to solve Simon’s problem exponentially faster asymptotically running on quantum circuits than the best conventional probabilistic algorithm running on classical circuits."
   ]
  },
  {
   "cell_type": "markdown",
   "metadata": {},
   "source": [
    "$\\textbf{Simon's Problem}$"
   ]
  },
  {
   "cell_type": "markdown",
   "metadata": {},
   "source": [
    "Simon's problem is defined as the follows. Given a black box function $f:\\{0,1\\}^{n} \\rightarrow\\{0,1\\}^{n}$\n",
    "\n",
    "we are further assured that there exists a hidden binary string $\\mathbf{c} \\in\\{0,1\\}^{n}$, such that, for all\n",
    "\n",
    "\n",
    "$\\mathbf{x}, \\mathbf{y} \\in\\{0,1\\}^{n}$\n",
    "$$\n",
    "f(\\mathbf{x})=f(\\mathbf{y}) \\Leftrightarrow \\mathbf{y}=\\mathbf{x} \\oplus \\mathbf{c}\n",
    "$$\n",
    "\n",
    "\n",
    "where $\\oplus$ is (bit-wise) XOR (binary addition modulo 2).\n",
    "\n",
    "- Our goal is to find out what $\\mathbf{c}$ is."
   ]
  },
  {
   "cell_type": "markdown",
   "metadata": {},
   "source": [
    "$\\textbf{There are some properties of the mapping $f . f$ is either a one-to-one or two-to-one mapping.  $\\mathbf{c}=\\mathbf{0} \\Leftrightarrow f$ is a one-to-one mapping}$\n",
    "\n",
    "$\\textbf{Proof}$\n",
    "\n",
    "For $f$ is a one-to-one mapping $\\Rightarrow \\mathbf{c}=\\mathbf{0}$, it is too trivial to prove.\n",
    "\n",
    "\n",
    "For $\\mathbf{c}=\\mathbf{0} \\Rightarrow f$ is a one-to-one mapping, we would like to prove by contradiction.\n",
    "\n",
    "\n",
    "If $\\mathbf{c}=\\mathbf{0}$ and $f$ is not a one-to-one mapping, there must exists $\\mathbf{x}$ and $\\mathbf{y}, \\mathbf{x} \\neq \\mathbf{y},$ and $f(\\mathbf{x})=f(\\mathbf{y})$. According to the assurance, $\\mathbf{y}=\\mathbf{x} \\oplus \\mathbf{c}=\\mathbf{x} \\oplus \\mathbf{0}=\\mathbf{x}$. This raises contradiction\n",
    "and therefore $f$ has to be a one-to-one mapping when $\\mathbf{c}=\\mathbf{0}$.\n",
    "\n",
    "\n",
    "This concludes the proof.\n",
    "$\\mathbf{c} \\neq \\mathbf{0} \\Leftrightarrow f$ is a two-to-one mapping."
   ]
  },
  {
   "cell_type": "markdown",
   "metadata": {},
   "source": [
    "## The Algorithm to Find the Hidden Integer\n",
    "\n",
    "The Simon algorithm finds the hidden integer by combining quantum algorithm with postprocessing on classical computers as below. \n",
    "\n",
    "1. Prepare two quantum registers each of length $n$ that are initialized to all-zero bitstring: the first one as input and the second one as output of the blackbox function.\n",
    "$$\n",
    "|0\\rangle |0\\rangle\n",
    "$$\n",
    "\n",
    "2. Apply Hadamard gates to the first register to create superposition of all possible inputs. \n",
    "$$\n",
    "H^{\\otimes n} |0\\rangle |0\\rangle = \\frac{1}{\\sqrt{2^n}} \\sum_{x=0}^{2^n-1} |x\\rangle |0\\rangle\n",
    "$$\n",
    "\n",
    "3. Query the blackbox function to obtain the answer to queries on the second register.\n",
    "$$\n",
    "\\frac{1}{\\sqrt{2^n}} \\sum_{x=0}^{2^n-1} U_{f_s}|x\\rangle |0\\rangle = \\frac{1}{\\sqrt{2^n}} \\sum_{x=0}^{2^n-1} |x\\rangle |f_s(x)\\rangle\n",
    "$$\n",
    "\n",
    "4. Apply Hadamard gates to the second register. \n",
    "$$\n",
    "\\frac{1}{\\sqrt{2^n}} \\sum_{x=0}^{2^n-1} H^{\\otimes n}|x\\rangle |f_s(x)\\rangle = \\frac{1}{2^n} \\sum_{y=0}^{2^n-1}\\sum_{x=0}^{2^n-1} (-1)^{x \\cdot y}|y\\rangle |f_s(x)\\rangle = \\frac{1}{2^n} \\sum_{y=0}^{2^n-1} |y\\rangle \\sum_{x=0}^{2^n-1} ( (-1)^{x \\cdot y} + (-1)^{(x\\oplus s) \\cdot y} )  |f_s(x)\\rangle\n",
    "$$\n",
    "\n",
    "    Notice that at the right-hand side of the above equation, because $(-1)^{(x\\oplus s) \\cdot y} = (-1)^{(x\\cdot y) +  s \\cdot y}$ we can conclude that the probability amplitude of the basis state $|y\\rangle |f_s(x)\\rangle$ is $(-1)^{x\\cdot y} ((-1) + (-1)^{s \\cdot y}  )$, which is zero if and only if $s \\cdot y = 1$. Thus, measuring the first register will always give $y$ such that $s \\cdot y = 0$. Moreover, we can obtain many different $y$'s by repeating Step 1 to 4. \n",
    "\n",
    "5. Repeat Step 1 to 4 for $m$ times to obtain $y_1, y_2, \\ldots, y_m$. \n",
    "\n",
    "6. **(Classical post-processing)** Let $\\mathbf{Y}$ be an $m\\times n$ matrix whose $i$-th row is $y_i$ in Step 5, and $\\vec{s}$ be the column vector whose $j$-th element is the $j$-th bit of $s$. Solve the following system of linear equations to obtain $s$. \n",
    "$$\n",
    "\\mathbf{Y} \\vec{s} = 0 \n",
    "$$"
   ]
  },
  {
   "cell_type": "code",
   "execution_count": 1,
   "metadata": {},
   "outputs": [],
   "source": [
    "#initialization\n",
    "import sys\n",
    "import matplotlib.pyplot as plt\n",
    "%matplotlib inline\n",
    "import numpy as np\n",
    "\n",
    "# importing the QISKit\n",
    "from qiskit import QuantumCircuit, ClassicalRegister, QuantumRegister,BasicAer,execute\n",
    "# import basic plot tools\n",
    "from qiskit.tools.visualization import plot_histogram"
   ]
  },
  {
   "cell_type": "code",
   "execution_count": 14,
   "metadata": {},
   "outputs": [],
   "source": [
    "s = \"1111\" # the hidden bitstring\n",
    "\n",
    "assert 1 < len(s) < 20, \"The length of s must be between 2 and 19\"\n",
    "\n",
    "for c in s:\n",
    "    assert c == \"0\" or c == \"1\", \"s must be a bitstring of '0' and '1'\"\n",
    "    \n",
    "n = len(s) #the length of the bitstring"
   ]
  },
  {
   "cell_type": "code",
   "execution_count": 15,
   "metadata": {},
   "outputs": [
    {
     "data": {
      "text/plain": [
       "<qiskit.circuit.instructionset.InstructionSet at 0xf9fe3177f0>"
      ]
     },
     "execution_count": 15,
     "metadata": {},
     "output_type": "execute_result"
    }
   ],
   "source": [
    "# Step 1\n",
    "# Creating registers\n",
    "# qubits for querying the oracle and recording its output\n",
    "qr = QuantumRegister(2*n)\n",
    "# for recording the measurement on the first register of qr\n",
    "cr = ClassicalRegister(n)\n",
    "\n",
    "circuitName = \"Simon\"\n",
    "simonCircuit = QuantumCircuit(qr, cr)\n",
    "\n",
    "# Step 2\n",
    "# Apply Hadamard gates before querying the oracle\n",
    "for i in range(n):\n",
    "    simonCircuit.h(qr[i])\n",
    "\n",
    "# Apply barrier to mark the beginning of the blackbox function\n",
    "simonCircuit.barrier()"
   ]
  },
  {
   "cell_type": "markdown",
   "metadata": {},
   "source": [
    "### Constructing a Circuit for the Blackbox Function\n",
    "\n",
    "We now details the construction of 1-to-1 and 2-to-1 permutation circuit of the blackbox function. Let us assume the blackbox function receive $|x\\rangle|0\\rangle$ as input. With regards to a predetermined $s$, the blackbox function writes its output to the second register so that it transforms the input to $|x\\rangle|f_s(x)\\rangle$ such that $f(x) = f(x\\oplus s)$ for all $x \\in \\{0,1\\}^n$. \n",
    "\n",
    "Such a blackbox function can be realized by the following procedures.\n",
    "\n",
    "-  Copy the content of the first register to the second register.\n",
    "$$\n",
    "|x\\rangle|0\\rangle \\rightarrow |x\\rangle|x\\rangle\n",
    "$$\n",
    "\n",
    "-  **(Creating 1-to-1 or 2-to-1 mapping)** If $s$ is not all-zero, then there is the least index $j$ so that $s_j = 1$. If $x_j = 0$, then XOR the second register with $s$. Otherwise, do not change the second register.\n",
    "$$\n",
    "|x\\rangle|x\\rangle \\rightarrow |x\\rangle|x \\oplus s\\rangle~\\mbox{if}~x_j = 0~\\mbox{for the least index j}\n",
    "$$\n",
    "\n",
    "-  **(Creating random permutation)** Randomly permute and flip the qubits of the second register.\n",
    "$$\n",
    "|x\\rangle|y\\rangle \\rightarrow |x\\rangle|f_s(y)\\rangle\n",
    "$$\n",
    "\n",
    "Below is the circuit of the blacbox function based on the above procedures."
   ]
  },
  {
   "cell_type": "code",
   "execution_count": 16,
   "metadata": {},
   "outputs": [
    {
     "data": {
      "text/plain": [
       "<qiskit.circuit.instructionset.InstructionSet at 0xf9fe757610>"
      ]
     },
     "execution_count": 16,
     "metadata": {},
     "output_type": "execute_result"
    }
   ],
   "source": [
    "# Step 3 query the blackbox function\n",
    "# copy the content of the first register to the second register\n",
    "for i in range(n):\n",
    "    simonCircuit.cx(qr[i], qr[n+i])\n",
    "\n",
    "# get the least index j such that s_j is \"1\"\n",
    "j = -1\n",
    "for i, c in enumerate(s):\n",
    "    if c == \"1\":\n",
    "        j = i\n",
    "        break\n",
    "\n",
    "# Creating 1-to-1 or 2-to-1 mapping with the j-th qubit of x as control to XOR the second register with s\n",
    "for i, c in enumerate(s):\n",
    "    if c == \"1\" and j >= 0:\n",
    "        simonCircuit.cx(qr[j], qr[n+i]) #the i-th qubit is flipped if s_i is 1\n",
    "\n",
    "# get random permutation of n qubits\n",
    "perm = list(np.random.permutation(n))\n",
    "\n",
    "#initial position\n",
    "init = list(range(n))\n",
    "i = 0\n",
    "while i < n:\n",
    "    if init[i] != perm[i]:\n",
    "        k = perm.index(init[i])\n",
    "        simonCircuit.swap(qr[n+i], qr[n+k]) #swap qubits\n",
    "        init[i], init[k] = init[k], init[i] #marked swapped qubits\n",
    "    else:\n",
    "        i += 1\n",
    "        \n",
    "# randomly flip the qubit\n",
    "for i in range(n):\n",
    "    if np.random.random() > 0.5:\n",
    "        simonCircuit.x(qr[n+i])\n",
    "\n",
    "# Apply the barrier to mark the end of the blackbox function\n",
    "simonCircuit.barrier()"
   ]
  },
  {
   "cell_type": "code",
   "execution_count": 17,
   "metadata": {},
   "outputs": [
    {
     "data": {
      "text/html": [
       "<pre style=\"word-wrap: normal;white-space: pre;background: #fff0;line-height: 1.1;font-family: &quot;Courier New&quot;,Courier,monospace\">       ┌───┐ ░                                                            ░ »\n",
       "q13_0: ┤ H ├─░───■───────────────────■────■────■────■─────────────────────░─»\n",
       "       ├───┤ ░   │                   │    │    │    │                     ░ »\n",
       "q13_1: ┤ H ├─░───┼────■──────────────┼────┼────┼────┼─────────────────────░─»\n",
       "       ├───┤ ░   │    │              │    │    │    │                     ░ »\n",
       "q13_2: ┤ H ├─░───┼────┼────■─────────┼────┼────┼────┼─────────────────────░─»\n",
       "       ├───┤ ░   │    │    │         │    │    │    │                     ░ »\n",
       "q13_3: ┤ H ├─░───┼────┼────┼────■────┼────┼────┼────┼─────────────────────░─»\n",
       "       └───┘ ░ ┌─┴─┐  │    │    │  ┌─┴─┐  │    │    │                     ░ »\n",
       "q13_4: ──────░─┤ X ├──┼────┼────┼──┤ X ├──┼────┼────┼───X───X────X────────░─»\n",
       "             ░ └───┘┌─┴─┐  │    │  └───┘┌─┴─┐  │    │   │   │    │  ┌───┐ ░ »\n",
       "q13_5: ──────░──────┤ X ├──┼────┼───────┤ X ├──┼────┼───┼───┼────X──┤ X ├─░─»\n",
       "             ░      └───┘┌─┴─┐  │       └───┘┌─┴─┐  │   │   │  ┌───┐└───┘ ░ »\n",
       "q13_6: ──────░───────────┤ X ├──┼────────────┤ X ├──┼───┼───X──┤ X ├──────░─»\n",
       "             ░           └───┘┌─┴─┐          └───┘┌─┴─┐ │ ┌───┐└───┘      ░ »\n",
       "q13_7: ──────░────────────────┤ X ├───────────────┤ X ├─X─┤ X ├───────────░─»\n",
       "             ░                └───┘               └───┘   └───┘           ░ »\n",
       " c2: 4/═════════════════════════════════════════════════════════════════════»\n",
       "                                                                            »\n",
       "«       ┌───┐┌─┐         \n",
       "«q13_0: ┤ H ├┤M├─────────\n",
       "«       ├───┤└╥┘┌─┐      \n",
       "«q13_1: ┤ H ├─╫─┤M├──────\n",
       "«       ├───┤ ║ └╥┘┌─┐   \n",
       "«q13_2: ┤ H ├─╫──╫─┤M├───\n",
       "«       ├───┤ ║  ║ └╥┘┌─┐\n",
       "«q13_3: ┤ H ├─╫──╫──╫─┤M├\n",
       "«       └───┘ ║  ║  ║ └╥┘\n",
       "«q13_4: ──────╫──╫──╫──╫─\n",
       "«             ║  ║  ║  ║ \n",
       "«q13_5: ──────╫──╫──╫──╫─\n",
       "«             ║  ║  ║  ║ \n",
       "«q13_6: ──────╫──╫──╫──╫─\n",
       "«             ║  ║  ║  ║ \n",
       "«q13_7: ──────╫──╫──╫──╫─\n",
       "«             ║  ║  ║  ║ \n",
       "« c2: 4/══════╩══╩══╩══╩═\n",
       "«             0  1  2  3 </pre>"
      ],
      "text/plain": [
       "       ┌───┐ ░                                                            ░ »\n",
       "q13_0: ┤ H ├─░───■───────────────────■────■────■────■─────────────────────░─»\n",
       "       ├───┤ ░   │                   │    │    │    │                     ░ »\n",
       "q13_1: ┤ H ├─░───┼────■──────────────┼────┼────┼────┼─────────────────────░─»\n",
       "       ├───┤ ░   │    │              │    │    │    │                     ░ »\n",
       "q13_2: ┤ H ├─░───┼────┼────■─────────┼────┼────┼────┼─────────────────────░─»\n",
       "       ├───┤ ░   │    │    │         │    │    │    │                     ░ »\n",
       "q13_3: ┤ H ├─░───┼────┼────┼────■────┼────┼────┼────┼─────────────────────░─»\n",
       "       └───┘ ░ ┌─┴─┐  │    │    │  ┌─┴─┐  │    │    │                     ░ »\n",
       "q13_4: ──────░─┤ X ├──┼────┼────┼──┤ X ├──┼────┼────┼───X───X────X────────░─»\n",
       "             ░ └───┘┌─┴─┐  │    │  └───┘┌─┴─┐  │    │   │   │    │  ┌───┐ ░ »\n",
       "q13_5: ──────░──────┤ X ├──┼────┼───────┤ X ├──┼────┼───┼───┼────X──┤ X ├─░─»\n",
       "             ░      └───┘┌─┴─┐  │       └───┘┌─┴─┐  │   │   │  ┌───┐└───┘ ░ »\n",
       "q13_6: ──────░───────────┤ X ├──┼────────────┤ X ├──┼───┼───X──┤ X ├──────░─»\n",
       "             ░           └───┘┌─┴─┐          └───┘┌─┴─┐ │ ┌───┐└───┘      ░ »\n",
       "q13_7: ──────░────────────────┤ X ├───────────────┤ X ├─X─┤ X ├───────────░─»\n",
       "             ░                └───┘               └───┘   └───┘           ░ »\n",
       " c2: 4/═════════════════════════════════════════════════════════════════════»\n",
       "                                                                            »\n",
       "«       ┌───┐┌─┐         \n",
       "«q13_0: ┤ H ├┤M├─────────\n",
       "«       ├───┤└╥┘┌─┐      \n",
       "«q13_1: ┤ H ├─╫─┤M├──────\n",
       "«       ├───┤ ║ └╥┘┌─┐   \n",
       "«q13_2: ┤ H ├─╫──╫─┤M├───\n",
       "«       ├───┤ ║  ║ └╥┘┌─┐\n",
       "«q13_3: ┤ H ├─╫──╫──╫─┤M├\n",
       "«       └───┘ ║  ║  ║ └╥┘\n",
       "«q13_4: ──────╫──╫──╫──╫─\n",
       "«             ║  ║  ║  ║ \n",
       "«q13_5: ──────╫──╫──╫──╫─\n",
       "«             ║  ║  ║  ║ \n",
       "«q13_6: ──────╫──╫──╫──╫─\n",
       "«             ║  ║  ║  ║ \n",
       "«q13_7: ──────╫──╫──╫──╫─\n",
       "«             ║  ║  ║  ║ \n",
       "« c2: 4/══════╩══╩══╩══╩═\n",
       "«             0  1  2  3 "
      ]
     },
     "execution_count": 17,
     "metadata": {},
     "output_type": "execute_result"
    }
   ],
   "source": [
    "# Step 4 apply Hadamard gates to the first register\n",
    "for i in range(n):\n",
    "    simonCircuit.h(qr[i])\n",
    "    \n",
    "# Step 5 perform measurement on the first register\n",
    "for i in range(n):\n",
    "    simonCircuit.measure(qr[i], cr[i])\n",
    "\n",
    "#draw the circuit\n",
    "from qiskit.tools.visualization import circuit_drawer\n",
    "circuit_drawer(simonCircuit)"
   ]
  },
  {
   "cell_type": "code",
   "execution_count": 18,
   "metadata": {},
   "outputs": [
    {
     "data": {
      "image/png": "[encoded data removed]",
      "text/plain": [
       "<Figure size 504x360 with 1 Axes>"
      ]
     },
     "execution_count": 18,
     "metadata": {},
     "output_type": "execute_result"
    }
   ],
   "source": [
    "backend = BasicAer.get_backend('qasm_simulator')\n",
    "shots = 1024\n",
    "results = execute(simonCircuit, backend=backend, shots=shots).result()\n",
    "counts = results.get_counts()\n",
    "plot_histogram(counts)"
   ]
  },
  {
   "cell_type": "code",
   "execution_count": 19,
   "metadata": {},
   "outputs": [
    {
     "name": "stdout",
     "output_type": "stream",
     "text": [
      "1111.0011 = 0 (mod 2)\n",
      "1111.1111 = 0 (mod 2)\n",
      "1111.0110 = 0 (mod 2)\n",
      "1111.0101 = 0 (mod 2)\n",
      "1111.1001 = 0 (mod 2)\n",
      "1111.1100 = 0 (mod 2)\n",
      "1111.0000 = 0 (mod 2)\n",
      "1111.1010 = 0 (mod 2)\n"
     ]
    }
   ],
   "source": [
    "# Calculate the dot product of the results\n",
    "def bdotz(s, z):\n",
    "    accum = 0\n",
    "    for i in range(len(s)):\n",
    "        accum += int(s[i]) * int(z[i])\n",
    "    return (accum % 2)\n",
    "\n",
    "for z in counts:\n",
    "    print( '{}.{} = {} (mod 2)'.format(s, z, bdotz(s,z)) )"
   ]
  },
  {
   "cell_type": "markdown",
   "metadata": {},
   "source": [
    "References\n",
    "1. https://leimao.github.io/blog/Simon-Algorithm/\n",
    "2. https://www.youtube.com/watch?v=yhd7V0-BIrs&ab_channel=AnantVigyan"
   ]
  },
  {
   "cell_type": "code",
   "execution_count": null,
   "metadata": {},
   "outputs": [],
   "source": []
  }
 ],
 "metadata": {
  "kernelspec": {
   "display_name": "Python 3",
   "language": "python",
   "name": "python3"
  },
  "language_info": {
   "codemirror_mode": {
    "name": "ipython",
    "version": 3
   },
   "file_extension": ".py",
   "mimetype": "text/x-python",
   "name": "python",
   "nbconvert_exporter": "python",
   "pygments_lexer": "ipython3",
   "version": "3.8.5"
  }
 },
 "nbformat": 4,
 "nbformat_minor": 4
}

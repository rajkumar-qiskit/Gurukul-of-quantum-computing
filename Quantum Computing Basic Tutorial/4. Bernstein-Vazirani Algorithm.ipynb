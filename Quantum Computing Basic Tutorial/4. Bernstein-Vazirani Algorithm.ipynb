{
 "cells": [
  {
   "cell_type": "markdown",
   "metadata": {},
   "source": [
    "<h1 align=\"center\">\n",
    "<span style=\"color: red;\">$\\textbf{Berstein-Vazirani Algorithm}$</center>\n",
    "</h1>"
   ]
  },
  {
   "cell_type": "markdown",
   "metadata": {},
   "source": [
    "- The Berstein-Vazarni Algorithm specializes in finding a secret number. (In our case, the number is going to be some bitstring, since we are in fact dealing with computers.)\n",
    "\n",
    "\n",
    "- So say we put a secret number in a box, say it’s 1001 (the number 9 in binary), how many steps will it take us to find that secret number?\n",
    "\n",
    "\n",
    "- This problem seems very trivial, and it’s actually something classical computers can already do."
   ]
  },
  {
   "cell_type": "markdown",
   "metadata": {},
   "source": [
    "<h1 align=\"center\">\n",
    "<span style=\"color: blue;\">$\\textbf{Classical Approach}$</center>\n",
    "</h1>\n",
    "\n",
    "- The way a classical algorithm would go about approaching this problem, is by going through a series of AND operations, to find our secret number.So, using the number 1001, the classical approach will make its first “guess” as to what the number might be. It’s first guess is always going to be leading zeros, followed by a 1.\n",
    "\n",
    "- So in our case, it’s first guess is going to be 0001. Now the algorithm is going to query the oracle, and use and AND comparison to see if there’s a 1 in the same spot.\n",
    "Comparing these two numbers:\n",
    "              1001\n",
    "\n",
    "              0001\n",
    "\n",
    "- We can see that they both have a 1 as the last bit, so this means that the algorithm has found a 1 in that place. (Since AND(1,1) = 1)\n",
    "\n",
    "- This series of guesses is repeated for every bit in the secret bitsring. So our next guesses are going to be 0010, then 0100, and so forth. Our algorithm just keeps performing these AND operations to see if there is a 1 in that place.Now this seems pretty efficient; better than just guessing and checking. But the thing is this algorithm will have to perform as many steps as there are bits in our secret bitstring. So if we had a bitstring with 1 million bits, we would have to query the black box 1 million times!"
   ]
  },
  {
   "cell_type": "markdown",
   "metadata": {},
   "source": [
    "<h1 align=\"center\">\n",
    "<span style=\"color: blue;\">$\\textbf{Quantum Approach}$</center>\n",
    "</h1>\n",
    "\n",
    "- Quantum computers can take this problem, and find the secret number with just one step."
   ]
  },
  {
   "cell_type": "markdown",
   "metadata": {},
   "source": [
    "The algorithm has four main parts.\n",
    "\n",
    "\n",
    "1. Initialize the first $n$ qubits in the state 10$\\rangle,$ and the last qubit in the |1\\rangle state. In Qiskit, all qubits are initialized in the 10$\\rangle$ state, so we don't need to do anything to the first $n$ qubits. For the last qubit, we initialize it to II $\\rangle$ state by applying an $X$ gate.\n",
    "\n",
    "\n",
    "2. Apply Hadamard gates to all qubits.\n",
    "\n",
    "\n",
    "3. Build the box containing the secret number (also known as an \"oracle\"). We will build it as a function that computes $s . x$ modulo 2 by applying $C X$ gates from the first $n$ qubits onto the last qubit whenever there is a 1 in the secret number. We will do this in reverse order, meaning that the there will be a $C X$ gate from the $n$ th qubit to the last qubit if the first bit of the secret number is $1 .$\n",
    "\n",
    "\n",
    "4. Measure the first $n$ qubits in the Bell basis. This means applying Hadamard gates to the first $n$ qubits again before applying measurements."
   ]
  },
  {
   "cell_type": "code",
   "execution_count": 2,
   "metadata": {},
   "outputs": [],
   "source": [
    "# initialization\n",
    "import matplotlib.pyplot as plt\n",
    "import numpy as np\n",
    "\n",
    "# importing Qiskit\n",
    "from qiskit import IBMQ, BasicAer\n",
    "from qiskit.providers.ibmq import least_busy\n",
    "from qiskit import QuantumCircuit, ClassicalRegister, QuantumRegister, execute\n",
    "\n",
    "# import basic plot tools\n",
    "from qiskit.visualization import plot_histogram"
   ]
  },
  {
   "cell_type": "code",
   "execution_count": 9,
   "metadata": {},
   "outputs": [],
   "source": [
    "s = '1101'   # the hidden binary string\n",
    "n = len(s) # number of qubits used to represent s\n"
   ]
  },
  {
   "cell_type": "code",
   "execution_count": 12,
   "metadata": {},
   "outputs": [
    {
     "data": {
      "image/png": "[encoded data removed]",
      "text/plain": [
       "<Figure size 1020.99x385.28 with 1 Axes>"
      ]
     },
     "execution_count": 12,
     "metadata": {},
     "output_type": "execute_result"
    }
   ],
   "source": [
    "circuit = QuantumCircuit(n+1,n)\n",
    "# Step 0\n",
    "circuit.x(n) # the n+1 qubits are indexed 0...n, so the last qubit is index n\n",
    "circuit.barrier() # just a visual aid for now\n",
    "\n",
    "# Step 1\n",
    "circuit.h(range(n+1)) # range(n+1) returns [0,1,2,...,n] in Python. This covers all the qubits\n",
    "circuit.barrier() # just a visual aid for now\n",
    "\n",
    "# Step 2\n",
    "for i, j in enumerate(reversed(s)):\n",
    "    if j == '1': \n",
    "        circuit.cx(i, n)    \n",
    "circuit.barrier() # just a visual aid for now\n",
    "\n",
    "# Step 3\n",
    "circuit.h(range(n+1)) # range(n+1) returns [0,1,2,...,n] in Python. This covers all the qubits\n",
    "circuit.barrier() # just a visual aid for now\n",
    "circuit.measure(range(n), range(n)) \n",
    "\n",
    "circuit.draw(output='mpl')"
   ]
  },
  {
   "cell_type": "code",
   "execution_count": 13,
   "metadata": {},
   "outputs": [
    {
     "data": {
      "image/png": "[encoded data removed]",
      "text/plain": [
       "<Figure size 504x360 with 1 Axes>"
      ]
     },
     "execution_count": 13,
     "metadata": {},
     "output_type": "execute_result"
    }
   ],
   "source": [
    "# use local simulator\n",
    "backend = BasicAer.get_backend('qasm_simulator')\n",
    "shots = 1024\n",
    "results = execute(circuit, backend=backend, shots=shots).result()\n",
    "answer = results.get_counts()\n",
    "\n",
    "plot_histogram(answer)"
   ]
  },
  {
   "cell_type": "code",
   "execution_count": null,
   "metadata": {},
   "outputs": [],
   "source": []
  }
 ],
 "metadata": {
  "kernelspec": {
   "display_name": "Python 3",
   "language": "python",
   "name": "python3"
  },
  "language_info": {
   "codemirror_mode": {
    "name": "ipython",
    "version": 3
   },
   "file_extension": ".py",
   "mimetype": "text/x-python",
   "name": "python",
   "nbconvert_exporter": "python",
   "pygments_lexer": "ipython3",
   "version": "3.8.5"
  }
 },
 "nbformat": 4,
 "nbformat_minor": 4
}

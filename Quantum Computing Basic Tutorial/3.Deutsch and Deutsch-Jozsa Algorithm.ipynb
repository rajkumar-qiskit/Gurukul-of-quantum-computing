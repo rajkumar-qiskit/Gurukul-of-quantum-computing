{
 "cells": [
  {
   "cell_type": "code",
   "execution_count": 1,
   "metadata": {},
   "outputs": [],
   "source": [
    "import numpy as np\n",
    "from qiskit import QuantumCircuit, execute, Aer, IBMQ, QuantumRegister, ClassicalRegister\n",
    "from qiskit import IBMQ, BasicAer\n",
    "from IPython.core.display import Image, display\n",
    "simulator = Aer.get_backend('qasm_simulator')\n"
   ]
  },
  {
   "cell_type": "markdown",
   "metadata": {},
   "source": [
    "- References\n",
    "1. https://www.youtube.com/watch?v=pMCqD9WSYwQ&feature=youtu.be&ab_channel=Dr.KittyYeung\n",
    "2. https://www.youtube.com/watch?v=HAV17aVqufQ&ab_channel=AnantVigyan\n",
    "3. https://hackaday.io/project/168554/files\n",
    "4. https://en.wikipedia.org/wiki/Deutsch%E2%80%93Jozsa_algorithm\n",
    "5. https://www.youtube.com/watch?v=fbntwz3RlbU&ab_channel=QuantumComputing"
   ]
  },
  {
   "cell_type": "markdown",
   "metadata": {},
   "source": [
    "<h1 align=\"center\">\n",
    "<span style=\"color: blue;\">$\\textbf{Quantum Oracles}$</center>\n",
    "</h1>"
   ]
  },
  {
   "cell_type": "markdown",
   "metadata": {},
   "source": [
    "<span style=\"color: blue;\">Quantum Oracle is a black box used extensively in quantum algorithms for\n",
    "the estimation of functions using qubits. Estimation in a classical computer is set up with an $n$ -dimensional input $x$ producing an $m$ -dimensional output $f(x)$\n",
    "\n",
    "$$\n",
    "f:\\{0,1\\}^{n} \\rightarrow\\{0,1\\}^{m}\n",
    "$$\n",
    "\n",
    "The $n$ -dimensional vector $x$ is encoded as quantum information by\n",
    "considering $n$ qubits each storing a single bit of information as below\n",
    "\n",
    "$$\n",
    "|x\\rangle=\\left|x_{0}\\right\\rangle \\otimes\\left|x_{1}\\right\\rangle \\otimes \\cdots \\otimes\\left|x_{n-1}\\right\\rangle\n",
    "$$\n",
    "\n",
    "Quantum oracles help transform a system from a quantum state $|x\\rangle$ into a state $|f(x)\\rangle,$ through the evolution of quantum states."
   ]
  },
  {
   "cell_type": "markdown",
   "metadata": {},
   "source": [
    "<img src=\"Images/Oracle.jpg\" alt=\"drawing\" width=\"600\"/>\n"
   ]
  },
  {
   "cell_type": "markdown",
   "metadata": {},
   "source": [
    "<h1 align=\"center\">\n",
    "<span style=\"color: red;\">$\\textbf{Deutsch's Algorithm}$</center>\n",
    "</h1>"
   ]
  },
  {
   "cell_type": "markdown",
   "metadata": {},
   "source": [
    "\n",
    "\n",
    "In the Deutsch algorithm, we are solving a problem with two qubits. The problem can be described in this way.\n",
    "\n",
    "- Alice and Bob live in different cities and they are playing a game.\n",
    "- Alice prepares her qubits and sends them to Bob. \n",
    "- Bob applies a function on Alice's qubits and sends them back to Alice.\n",
    "- Bob is allowed to choose only one of the 4 possible functions, that are either constant ($f(0) = f(1)$) or balanced ($f(0) \\ne f(1)$), and input and output of the function is one bit ($0$ or $1$).\n",
    "- Alice should find out from the measurement result was the chosen function balanced or constant. In the course of this algorithm, we will use the concept of quantum parallelism. Here is the circuit for the algorithm.\n",
    "\n",
    "<img src=\"images/Deutsch.png\" alt=\"drawing\" width=\"500\"/>\n",
    "\n",
    "where $\\left| x \\right\\rangle$ is the input register with one qubit, $\\left| y \\right\\rangle$ is the output register also with one qubit, $M$ denotes the measurement. \n",
    "    \n",
    "1. The initial state is $\\left| \\psi_0 \\right\\rangle = \\left| 0 \\right\\rangle \\left| 1 \\right\\rangle$. \n",
    "\n",
    "2. Alice applies Hadamard gates on both input and output registers and obtains the $\\left| \\psi_1 \\right\\rangle$ state:\n",
    "\n",
    "$$\n",
    "\\left| \\psi_1 \\right\\rangle = \\frac{1}{2} \n",
    "\\left( \\left| 0 \\right\\rangle + \\left| 1 \\right\\rangle \\right)\n",
    "\\left( \\left| 0 \\right\\rangle - \\left| 1 \\right\\rangle \\right).\n",
    "$$\n",
    "\n",
    "- Then Alice sends the qubits to Bob. \n",
    "\n",
    "\n",
    "3. Now Bob should make a decision which $f(x)$ function to use. 4 possible functions can be chosen.\n",
    "- Two of them are constant functions ($f(0) = f(1) = 0$ or $f(0) = f(1) = 1$) and the other two are balanced ($f(0) = 0$ and $f(1) = 1$ or $f(0) = 1$ and $f(1) = 0$). \n",
    "- After choosing one of them Bob acts the corresponding $U_{f(x)}$ circuit on the qubits. The result of the function is stored in the output register by mmodulo 2 addition $\\left| y \\oplus f(x)\\right\\rangle$. Let's rewrite the $\\left| \\psi_1 \\right\\rangle$ in this way:\n",
    "\n",
    "$$\n",
    "\\left| \\psi_1 \\right\\rangle = \\frac{1}{2} \n",
    "\\left( \\left| 0 \\right\\rangle + \\left| 1 \\right\\rangle \\right)\n",
    "\\left( \\left| 0 \\right\\rangle - \\left| 1 \\right\\rangle \\right)\n",
    "$$\n",
    "\n",
    "After applying the circuit $U_{f(x)}$ one will obtain $\\left| \\psi_2 \\right\\rangle$ state that Bob will send back to Alice:\n",
    "\n",
    "\\begin{align*}\n",
    "\\left| \\psi_2 \\right\\rangle = \\frac{1}{2} \n",
    "\\big( \\left| 0 \\right\\rangle \\left( \\left| 0 \\oplus f(0) \\right\\rangle - \\left| 1 \\oplus f(0) \\right\\rangle \\right) + \n",
    "\\left| 1 \\right\\rangle \\left( \\left| 0 \\oplus f(1) \\right\\rangle - \\left| 1 \\oplus f(1) \\right\\rangle \\right) \\big)\n",
    "\\end{align*}\n",
    "\n",
    "How one can see the $f(0)$ and $f(1)$ were calculated at the same time by executing the circuit once (quantum parallelism). Also, note that $|\\psi_2 \\rangle$ is an example of an entangled state. Although the values $of(0)$ and $f(1)$ are computed, but they are \"hidden\" in the quantum state. By saying \"hidden\" means that we don't know a direct way to extract the values from them efficiently. \n",
    "\n",
    " Now Bob sends the qubits back to Alice. \n",
    "\n",
    "4. Alice applies Hadamard gate on the input qubit and obtains the final $\\left| \\psi_3 \\right\\rangle$ quantum state before the measurement:\n",
    "\n",
    "\\begin{align*}\n",
    "\\left| \\psi_3 \\right\\rangle = \\frac{1}{\\sqrt{2^3}} \n",
    "\\big( &\\left( \\left| 0 \\right\\rangle + \\left| 1 \\right\\rangle \\right) \\left( \\left| 0 \\oplus f(0) \\right\\rangle - \\left| 1 \\oplus f(0) \\right\\rangle \\right) + \n",
    "\\\\+ &\\left( \\left| 0 \\right\\rangle - \\left| 1 \\right\\rangle \\right) \\left( \\left| 0 \\oplus f(1) \\right\\rangle - \\left| 1 \\oplus f(1) \\right\\rangle \\right) \\big)\n",
    "\\end{align*}\n",
    "\n",
    "Let's regroup superposition states:\n",
    "\n",
    "\\begin{align*}\n",
    "\\left| \\psi_3 \\right\\rangle = \\frac{1}{\\sqrt{2^3}} \n",
    "\\big( \n",
    "& \n",
    "\\left| 0 \\right\\rangle \\left( \\left| 0 \\oplus f(0) \\right\\rangle - \\left| 1 \\oplus f(0) \\right\\rangle  + \\left| 0 \\oplus f(1) \\right\\rangle - \\left| 1 \\oplus f(1) \\right\\rangle \\right) + \n",
    "\\\\\n",
    "& \n",
    "\\left| 1 \\right\\rangle \\left( \\left| 0 \\oplus f(0) \\right\\rangle - \\left| 1 \\oplus f(0) \\right\\rangle - \\left| 0 \\oplus f(1) \\right\\rangle +  \\left| 1 \\oplus f(1) \\right\\rangle \\right) \n",
    "\\big)\n",
    "\\end{align*}\n",
    "\n",
    "Here we are going to show that, when the function was balanced the terms in the first bracket cancel each other and final state of the first qubit becomes $\\left| 1 \\right\\rangle$. Otherwise, if the function was constant the terms of the second bracket cancel each other and the final state of the first qubit will be $\\left| 0 \\right\\rangle$. So, by just measuring the first qubit, Alice can understand was the function balanced or constant. To see this let's consider one of the examples. Suppose Bob has chosen a balanced function for which $f(0) = 0$ and $f(1) = 1$. In that case:\n",
    "\n",
    "\\begin{align*}\n",
    "\\left| \\psi_3 \\right\\rangle = \\frac{1}{\\sqrt{2^3}} \n",
    "\\big( \n",
    "& \n",
    "\\left| 0 \\right\\rangle \\left( \\left| 0 \\oplus 0 \\right\\rangle - \\left| 1 \\oplus 0 \\right\\rangle  + \\left| 0 \\oplus 1 \\right\\rangle - \\left| 1 \\oplus 1 \\right\\rangle \\right) + \n",
    "\\\\\n",
    "& \n",
    "\\left| 1 \\right\\rangle \\left( \\left| 0 \\oplus 0 \\right\\rangle - \\left| 1 \\oplus 0 \\right\\rangle - \\left| 0 \\oplus 1 \\right\\rangle +  \\left| 1 \\oplus 1 \\right\\rangle \\right) \n",
    "\\big)\n",
    "\\end{align*}\n",
    "\n",
    "Note that $\\left|1 \\oplus 1\\right\\rangle = \\left|0\\right\\rangle$. $\\left|0 \\oplus 1\\right\\rangle = \\left|1\\right\\rangle$, $\\left|1 \\oplus 0\\right\\rangle = \\left|1\\right\\rangle$ and $\\left|0 \\oplus 0\\right\\rangle = \\left|0\\right\\rangle$. So:\n",
    "\n",
    "\\begin{align*}\n",
    "\\left| \\psi_3 \\right\\rangle = \\frac{1}{\\sqrt{2^3}} \n",
    "\\big( \n",
    "& \n",
    "\\left| 0 \\right\\rangle \\left( \\left| 0 \\right\\rangle - \\left| 1 \\right\\rangle  + \\left| 1 \\right\\rangle - \\left| 0 \\right\\rangle \\right) + \n",
    "\\\\\n",
    "& \n",
    "\\left| 1 \\right\\rangle \\left( \\left| 0 \\right\\rangle - \\left| 1 \\right\\rangle - \\left| 1 \\right\\rangle +  \\left| 0 \\right\\rangle \\right) \n",
    "\\big) =\n",
    "\\\\\n",
    "& = \\frac{1}{\\sqrt{2}}\\left| 1 \\right\\rangle \\left( \\left| 0 \\right\\rangle - \\left| 1 \\right\\rangle \\right)\n",
    "\\end{align*}\n",
    "\n",
    "Similar calculations can be done for other functions:\n",
    "\n",
    "\\begin{align*}\n",
    "&\\text{f(0) = 0, f(1) = 0:} \\;\\; \\left| \\psi_3 \\right\\rangle = \\frac{1}{\\sqrt{2}}\\left| 0 \\right\\rangle \\left( \\left| 0 \\right\\rangle - \\left| 1 \\right\\rangle \\right)\n",
    "\\\\\n",
    "&\\text{f(0) = 1, f(1) = 1:} \\;\\; \\left| \\psi_3 \\right\\rangle = -\\frac{1}{\\sqrt{2}}\\left| 0 \\right\\rangle \\left( \\left| 0 \\right\\rangle - \\left| 1 \\right\\rangle \\right)\n",
    "\\\\\n",
    "&\\text{f(0) = 0, f(1) = 1:} \\;\\; \\left| \\psi_3 \\right\\rangle = \\frac{1}{\\sqrt{2}}\\left| 1 \\right\\rangle \\left( \\left| 0 \\right\\rangle - \\left| 1 \\right\\rangle \\right)\n",
    "\\\\\n",
    "&\\text{f(0) = 1, f(1) = 0:} \\;\\; \\left| \\psi_3 \\right\\rangle = -\\frac{1}{\\sqrt{2}}\\left| 1 \\right\\rangle \\left( \\left| 0 \\right\\rangle - \\left| 1 \\right\\rangle \\right)\n",
    "\\end{align*}\n",
    "\n",
    "One can see that if the function is constant (the first two cases) the qubit in the input register is in the $\\left| 0 \\right\\rangle$ state and if the function is balanced (the last two cases) the qubit is in the $\\left| 1 \\right\\rangle$ state."
   ]
  },
  {
   "cell_type": "code",
   "execution_count": 2,
   "metadata": {},
   "outputs": [
    {
     "data": {
      "image/png": "[encoded data removed]",
      "text/plain": [
       "<Figure size 343.593x204.68 with 1 Axes>"
      ]
     },
     "execution_count": 2,
     "metadata": {},
     "output_type": "execute_result"
    }
   ],
   "source": [
    "# Alice prepares the qubits\n",
    "input_register = QuantumRegister(1, \"x\")\n",
    "output_register = QuantumRegister(1, \"f(x)\")\n",
    "classical_register = ClassicalRegister(1, \"c\")\n",
    "\n",
    "circuit_Deutsch = QuantumCircuit(input_register, output_register, classical_register)\n",
    "\n",
    "# Prepare the qubit in the output register in the |1> state\n",
    "circuit_Deutsch.x(output_register[0])\n",
    "\n",
    "# Hadamard gates applied on input and output registers\n",
    "circuit_Deutsch.h(input_register[0])\n",
    "circuit_Deutsch.h(output_register[0])\n",
    "\n",
    "# Add a barrier\n",
    "circuit_Deutsch.barrier()\n",
    "\n",
    "# Draw the circuit\n",
    "circuit_Deutsch.draw(output=\"mpl\")"
   ]
  },
  {
   "cell_type": "markdown",
   "metadata": {},
   "source": [
    "Now Alice sends to Bob the qubits and Bob should choose one of the four functions"
   ]
  },
  {
   "cell_type": "code",
   "execution_count": 3,
   "metadata": {},
   "outputs": [
    {
     "data": {
      "text/plain": [
       "<qiskit.circuit.instructionset.InstructionSet at 0x624140edc0>"
      ]
     },
     "execution_count": 3,
     "metadata": {},
     "output_type": "execute_result"
    }
   ],
   "source": [
    "# Bob's four functions/circuits\n",
    "\n",
    "# The first option: constant f(0) = f(1) = 0\n",
    "circuit_Bob1 = QuantumCircuit(input_register, output_register)\n",
    "circuit_Bob1.barrier()\n",
    "\n",
    "# The second option: constant f(0) = f(1) = 1\n",
    "circuit_Bob2 = QuantumCircuit(input_register, output_register)\n",
    "circuit_Bob2.cx(input_register[0], output_register)\n",
    "circuit_Bob2.x(input_register[0])\n",
    "circuit_Bob2.cx(input_register[0], output_register)\n",
    "circuit_Bob2.x(input_register[0])\n",
    "circuit_Bob2.barrier()\n",
    "\n",
    "# The third option: balanced f(0) = 0 & f(1) = 1\n",
    "circuit_Bob3 = QuantumCircuit(input_register, output_register)\n",
    "circuit_Bob3.cx(input_register[0], output_register)\n",
    "circuit_Bob3.barrier()\n",
    "\n",
    "# The fourth option: balanced f(0) = 1 & f(1) = 0\n",
    "circuit_Bob4 = QuantumCircuit(input_register, output_register)\n",
    "circuit_Bob4.x(input_register[0])\n",
    "circuit_Bob4.cx(input_register[0], output_register)\n",
    "circuit_Bob4.x(input_register[0])\n",
    "circuit_Bob4.barrier()"
   ]
  },
  {
   "cell_type": "markdown",
   "metadata": {},
   "source": [
    "Now Bob will choose randomly which circuit to implement. Note that for Alice the applied circuit will be unknown: for her, it is a black box."
   ]
  },
  {
   "cell_type": "code",
   "execution_count": 4,
   "metadata": {},
   "outputs": [
    {
     "name": "stdout",
     "output_type": "stream",
     "text": [
      "The circuit with Bob's chosen function\n"
     ]
    },
    {
     "data": {
      "image/png": "[encoded data removed]",
      "text/plain": [
       "<Figure size 644.593x204.68 with 1 Axes>"
      ]
     },
     "execution_count": 4,
     "metadata": {},
     "output_type": "execute_result"
    }
   ],
   "source": [
    "import random\n",
    "list_options_Bob = [circuit_Bob2,circuit_Bob2, circuit_Bob3, circuit_Bob4]\n",
    "circuit_Bob_choice = random.choice(list_options_Bob)\n",
    "\n",
    "# Add the chosen circuit to the main circuit\n",
    "circuit_Deutsch += circuit_Bob_choice\n",
    "\n",
    "# Draw the circuit \n",
    "print(\"The circuit with Bob's chosen function\")\n",
    "circuit_Deutsch.draw(output=\"mpl\")"
   ]
  },
  {
   "cell_type": "markdown",
   "metadata": {},
   "source": [
    "After applying the chosen function/circuit, Bob sends back the qubits to Alice."
   ]
  },
  {
   "cell_type": "code",
   "execution_count": 5,
   "metadata": {},
   "outputs": [
    {
     "name": "stdout",
     "output_type": "stream",
     "text": [
      "The final version of the circuit\n"
     ]
    },
    {
     "data": {
      "image/png": "[encoded data removed]",
      "text/plain": [
       "<Figure size 764.993x204.68 with 1 Axes>"
      ]
     },
     "execution_count": 5,
     "metadata": {},
     "output_type": "execute_result"
    }
   ],
   "source": [
    "# Alice's final operations\n",
    "circuit_Deutsch.h(input_register[0])\n",
    "circuit_Deutsch.measure(input_register[0], classical_register[0])\n",
    "\n",
    "# Draw the final version of the circuit \n",
    "print(\"The final version of the circuit\")\n",
    "circuit_Deutsch.draw(output=\"mpl\")"
   ]
  },
  {
   "cell_type": "code",
   "execution_count": 6,
   "metadata": {},
   "outputs": [
    {
     "name": "stdout",
     "output_type": "stream",
     "text": [
      "The results of the measurements: {'0': 1}\n",
      "The final result is: 0\n",
      "Bob's chosen function was constant\n"
     ]
    }
   ],
   "source": [
    "# The execution of the circuit\n",
    "counts = execute(circuit_Deutsch, simulator, shots=1).result().get_counts()\n",
    "\n",
    "# Finding the only key/measurement outcome\n",
    "measurement_result = list(counts.keys())[0]\n",
    "print(\"The results of the measurements: {}\".format(counts))\n",
    "print(\"The final result is: {}\".format(measurement_result))\n",
    "\n",
    "# From the final measurement result, Alice understands if \n",
    "# the Bob's chosen function balanced or constant\n",
    "if measurement_result == '0':\n",
    "    print(\"Bob's chosen function was constant\")\n",
    "elif measurement_result == '1':\n",
    "    print(\"Bob's chosen function was balanced\")"
   ]
  },
  {
   "cell_type": "markdown",
   "metadata": {},
   "source": [
    "<h1 align=\"center\">\n",
    "<span style=\"color: red;\">$\\textbf{Deutsch-Jozsa Algorithm}$</center>\n",
    "</h1>"
   ]
  },
  {
   "cell_type": "markdown",
   "metadata": {},
   "source": [
    "<span style=\"color: blue;\">Deutsch’s algorithm was the first to demonstrate a clear advantage of quantum over classical computing.Deutsch-Jozsa algorithm is the $n$ qubit version of the Deutsch algorithm.The functions now take $n$ bit strings (e.g. \"0101011\") as an input and return one bit output ($0$ or $1$). Bob still is allowed only to use either balanced or constant functions and Alice should find out the property of that function."
   ]
  },
  {
   "cell_type": "markdown",
   "metadata": {},
   "source": [
    "Let's begin with an example. Suppose I buy two standard decks of 52 playing cards. In a separate room where you cannot see me, I create a single deck of 52 cards where one of the following is true:\n",
    "1. All the cards are red or all the cards are black.\n",
    "2. Half the cards (26) are black and half are red.\n",
    "\n",
    "<span style=\"color: red;\">The first option is called \"constant\" and the second is \"balanced.\""
   ]
  },
  {
   "cell_type": "markdown",
   "metadata": {},
   "source": [
    "<img src=\"Images/function.jpeg\" alt=\"drawing\" width=\"600\"/>"
   ]
  },
  {
   "cell_type": "markdown",
   "metadata": {},
   "source": [
    "I now go to you and give you the problem of finding out which of the two possibilities is the case for the deck I am holding. You do so by looking at and then discarding the card at the top of the deck.\n",
    "\n",
    "In the best case, the first card is one color and the second is the other. Therefore the deck is balanced. In the worst case you must examine $27=1+52 / 2$ cards. The first 26 cards might be black, say. If the next is black, then all are black. If it is red, the deck is balanced.\n",
    "\n",
    "Regarding an oracle, we are asking \"is the card at the top of the deck black?\". It returns 1 if it is, 0 if it is red. As I stated, we must consult the oracle 27 times in the worst case to get the\n",
    "correct answer."
   ]
  },
  {
   "cell_type": "markdown",
   "metadata": {},
   "source": [
    "<img src=\"Images/Deutsch_jozsa.png\" alt=\"drawing\" width=\"600\"/>"
   ]
  },
  {
   "cell_type": "markdown",
   "metadata": {},
   "source": [
    "The main steps of the algorithm are presented in the following circuit:\n",
    "1. The algorithm begins with the $n+1$ bit state $|0\\rangle^{\\otimes n}|1\\rangle.$ That is, the first n bits are each in the state $|0\\rangle$ and the final bit is $|1\\rangle .$ A Hadamard transform is applied to each bit to obtain the state\n",
    "\n",
    "$$\n",
    "\\left| \\psi_1 \\right\\rangle =\\frac{1}{\\sqrt{2^{n+1}}} \\sum_{x=0}^{2^{n}-1}|x\\rangle(|0\\rangle-|1\\rangle)\n",
    "$$\n",
    "\n",
    "2. We have the function $f$ implemented as a quantum oracle. The oracle maps the state $|x\\rangle|y\\rangle$ to $|x\\rangle|y \\oplus f(x)\\rangle,$ where $\\oplus$ is addition modulo 2. Applying the quantum oracle gives\n",
    "\n",
    "$$\n",
    "\\left| \\psi_2 \\right\\rangle =\n",
    "\\frac{1}{\\sqrt{2^{n+1}}} \\sum_{x=0}^{2^{n}-1}|x\\rangle(|f(x)\\rangle-|1 \\oplus f(x)\\rangle)\n",
    "$$\n",
    "\n",
    "- For each $x, f(x)$ is either 0 or 1 . Testing these two possibilities, we see the above state is equate\n",
    "\n",
    "$$\n",
    "\\left| \\psi_2 \\right\\rangle =\n",
    "\\frac{1}{\\sqrt{2^{n+1}}} \\sum_{x=0}^{2^{n}-1}(-1)^{f(x)}|x\\rangle(|0\\rangle-|1\\rangle)\n",
    "$$\n",
    "\n",
    "- At this point the last qubit $\\frac{|0\\rangle-|1\\rangle}{\\sqrt{2}}$ may be ignored and therefore below is remained:\n",
    "\n",
    "$$\n",
    "\\frac{1}{\\sqrt{2^{n}}} \\sum_{x=0}^{2^{n}-1}(-1)^{f(x)}|x\\rangle\n",
    "$$\n",
    "\n",
    "3. We apply a Hadamard transform to each qubit to obtain\n",
    "\n",
    "$$\n",
    "\\left| \\psi_3 \\right\\rangle =\n",
    "\\frac{1}{\\sqrt{2^{n}}} \\sum_{x=0}^{2^{n}-1}(-1)^{f(x)}\\left[\\frac{1}{\\sqrt{2^{n}}} \\sum_{y=0}^{2^{n}-1}(-1)^{x \\cdot y}|y\\rangle\\right]=\\frac{1}{2^{n}} \\sum_{y=0}^{2^{n}-1}\\left[\\sum_{x=0}^{2^{n}-1}(-1)^{f(x)}(-1)^{x \\cdot y}\\right]|y\\rangle\n",
    "$$\n",
    "\n",
    "where $x \\cdot y=x_{0} y_{0} \\oplus x_{1} y_{1} \\oplus \\cdots \\oplus x_{n-1} y_{n-1}$ is the sum of the bitwise product.\n",
    "4. Finally we examine the probability of measuring $|0\\rangle^{\\otimes n}$\n",
    "\n",
    "$$\n",
    "\\left|\\frac{1}{2^{n}} \\sum_{x=0}^{2^{n}-1}(-1)^{f(x)}\\right|^{2}\n",
    "$$\n",
    "\n",
    "which evaluates to 1 if $f(x)$ is constant (constructive interference) and 0 if $f(x)$ is balanced (destructive interference). In other words, the final measurement will be $|0\\rangle^{\\otimes n}$ (i.e. all zeros) if $f(x)$ is constant and will yield some other states if $f(x)$ is balanced."
   ]
  },
  {
   "cell_type": "markdown",
   "metadata": {},
   "source": [
    "<img src=\"Images/overall dj.jpg\" alt=\"drawing\" width=\"600\"/>"
   ]
  },
  {
   "cell_type": "code",
   "execution_count": 7,
   "metadata": {},
   "outputs": [
    {
     "data": {
      "image/png": "[encoded data removed]",
      "text/plain": [
       "<Figure size 343.593x325.08 with 1 Axes>"
      ]
     },
     "execution_count": 7,
     "metadata": {},
     "output_type": "execute_result"
    }
   ],
   "source": [
    "# Alice: qubit preparation\n",
    "input_register = QuantumRegister(3, \"x\")\n",
    "output_register = QuantumRegister(1, \"f(x)\")\n",
    "classical_register = ClassicalRegister(3, \"c\")\n",
    "\n",
    "circuit_Deutsch_Jozsa = QuantumCircuit(input_register, output_register, classical_register)\n",
    "\n",
    "# Prepare the qubit in the output register in the |1> state\n",
    "circuit_Deutsch_Jozsa.x(output_register[0])\n",
    "\n",
    "# Hadamard gates on both input and output registers\n",
    "circuit_Deutsch_Jozsa.h(input_register) # Hadamard gate is applied to all qubits in the input_register\n",
    "circuit_Deutsch_Jozsa.h(output_register[0])\n",
    "\n",
    "# Add a barrier\n",
    "circuit_Deutsch_Jozsa.barrier()\n",
    "circuit_Deutsch_Jozsa.draw('mpl')\n"
   ]
  },
  {
   "cell_type": "code",
   "execution_count": 8,
   "metadata": {},
   "outputs": [
    {
     "data": {
      "image/png": "[encoded data removed]",
      "text/plain": [
       "<Figure size 704.793x325.08 with 1 Axes>"
      ]
     },
     "execution_count": 8,
     "metadata": {},
     "output_type": "execute_result"
    }
   ],
   "source": [
    "# Circuit for the constant function\n",
    "circtuit_Deutsch_Jozsa_constant  = QuantumCircuit(input_register, output_register, classical_register)\n",
    "circtuit_Deutsch_Jozsa_constant += circuit_Deutsch_Jozsa\n",
    "\n",
    "# Implementing the f(x) = 1 constant function\n",
    "circtuit_Deutsch_Jozsa_constant.x(output_register[0])\n",
    "\n",
    "# Add a barrier\n",
    "circtuit_Deutsch_Jozsa_constant.barrier()\n",
    "\n",
    "# Final Hadamard gates applied on all qubits in the input register\n",
    "circtuit_Deutsch_Jozsa_constant.h(input_register)\n",
    "\n",
    "# Measurements executed for all qubits in the input register\n",
    "circtuit_Deutsch_Jozsa_constant.measure(input_register, classical_register)\n",
    "\n",
    "# Draw the circuit\n",
    "circtuit_Deutsch_Jozsa_constant.draw(output=\"mpl\")"
   ]
  },
  {
   "cell_type": "code",
   "execution_count": 9,
   "metadata": {},
   "outputs": [],
   "source": [
    "# A function that will help Alice to define if\n",
    "# the chosen function was balanced or constant \n",
    "def is_balanced_or_constant(circuit, bakend):\n",
    "    # The execution of the circuit\n",
    "    counts = execute(circuit, bakend, shots=1).result().get_counts()\n",
    "\n",
    "    # Finding the only key/measurement outcome\n",
    "    measurement_result = list(counts.keys())[0]\n",
    "    print(\"The results of the measurements: {}\".format(counts))\n",
    "    print(\"The final result is: {}\".format(measurement_result))\n",
    "\n",
    "    # Alice checks if Bob's function was constant or balanced\n",
    "    if '000' in counts:\n",
    "        print(\"Bob's chosen function was constant\")\n",
    "    else:\n",
    "        print(\"Bob's chosen function was balanced\")"
   ]
  },
  {
   "cell_type": "code",
   "execution_count": 10,
   "metadata": {},
   "outputs": [
    {
     "name": "stdout",
     "output_type": "stream",
     "text": [
      "The results of the measurements: {'000': 1}\n",
      "The final result is: 000\n",
      "Bob's chosen function was constant\n"
     ]
    }
   ],
   "source": [
    "# Alice uses is_balanced_or_constant() function\n",
    "is_balanced_or_constant(circtuit_Deutsch_Jozsa_constant, simulator)"
   ]
  },
  {
   "cell_type": "markdown",
   "metadata": {},
   "source": [
    "Now we will do the same calculations but for a balanced $f(x)$ function that we have used in the quantum parallelism chapter."
   ]
  },
  {
   "cell_type": "code",
   "execution_count": 11,
   "metadata": {},
   "outputs": [
    {
     "data": {
      "image/png": "[encoded data removed]",
      "text/plain": [
       "<Figure size 825.193x325.08 with 1 Axes>"
      ]
     },
     "execution_count": 11,
     "metadata": {},
     "output_type": "execute_result"
    }
   ],
   "source": [
    "# Circuit for the balanced case\n",
    "circtuit_Deutsch_Jozsa_balanced  = QuantumCircuit(input_register, output_register, classical_register)\n",
    "circtuit_Deutsch_Jozsa_balanced += circuit_Deutsch_Jozsa\n",
    "\n",
    "# implementing the balanced function\n",
    "circtuit_Deutsch_Jozsa_balanced.cx(input_register[0], output_register[0])\n",
    "circtuit_Deutsch_Jozsa_balanced.cx(input_register[1], output_register[0])\n",
    "circtuit_Deutsch_Jozsa_balanced.cx(input_register[2], output_register[0])\n",
    "\n",
    "# add a barrier\n",
    "circtuit_Deutsch_Jozsa_balanced.barrier()\n",
    "\n",
    "# final Hadamard gates applied on all qubits in the input register\n",
    "circtuit_Deutsch_Jozsa_balanced.h(input_register)\n",
    "\n",
    "\n",
    "# measurements executed for all qubits in the input register\n",
    "circtuit_Deutsch_Jozsa_balanced.measure(input_register, classical_register)\n",
    "\n",
    "# draw the circuit\n",
    "circtuit_Deutsch_Jozsa_balanced.draw(output=\"mpl\")"
   ]
  },
  {
   "cell_type": "code",
   "execution_count": 12,
   "metadata": {},
   "outputs": [
    {
     "name": "stdout",
     "output_type": "stream",
     "text": [
      "The results of the measurements: {'111': 1}\n",
      "The final result is: 111\n",
      "Bob's chosen function was balanced\n"
     ]
    }
   ],
   "source": [
    "# Alice uses is_balanced_or_constant() function\n",
    "simulator = Aer.get_backend('qasm_simulator')\n",
    "is_balanced_or_constant(circtuit_Deutsch_Jozsa_balanced, simulator)"
   ]
  }
 ],
 "metadata": {
  "kernelspec": {
   "display_name": "Python 3",
   "language": "python",
   "name": "python3"
  },
  "language_info": {
   "codemirror_mode": {
    "name": "ipython",
    "version": 3
   },
   "file_extension": ".py",
   "mimetype": "text/x-python",
   "name": "python",
   "nbconvert_exporter": "python",
   "pygments_lexer": "ipython3",
   "version": "3.8.5"
  }
 },
 "nbformat": 4,
 "nbformat_minor": 4
}
